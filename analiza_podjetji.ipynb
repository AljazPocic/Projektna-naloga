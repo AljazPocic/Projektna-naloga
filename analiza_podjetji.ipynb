{
 "cells": [
  {
   "cell_type": "markdown",
   "id": "b0d116ee",
   "metadata": {},
   "source": [
    "# Finančna analiza največjih podjetij na svetu\n"
   ]
  }
 ],
 "metadata": {
  "kernelspec": {
   "display_name": "venv",
   "language": "python",
   "name": "python3"
  },
  "language_info": {
   "name": "python",
   "version": "3.12.6"
  }
 },
 "nbformat": 4,
 "nbformat_minor": 5
}
